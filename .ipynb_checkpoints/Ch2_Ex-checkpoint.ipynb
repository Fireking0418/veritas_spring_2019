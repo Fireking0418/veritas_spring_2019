{
 "cells": [
  {
   "cell_type": "markdown",
   "metadata": {},
   "source": [
    "# 8.Write a program that will compute the area of a circle. Prompt the user to enter the radius and print a nice message back to the user with the answer.\n",
    " r= int(input(\"Enter the radius:\"))\n",
    "area=3.14* r**2\n",
    "\n",
    "print(area)\n",
    "\n",
    "# 9.Write a program that will compute the area of a rectangle. Prompt the user to enter the width and height of the rectangle. Print a nice message with the answer.\n",
    "\n",
    "width = int(input(\"What is the width? \"))\n",
    "height = int(input(\"What is the height?? \"))\n",
    "\n",
    "area = width * height\n",
    "\n",
    "print(\"Your bad at math because you need to use this, but here is the answer-\", area)"
   ]
  }
 ],
 "metadata": {
  "kernelspec": {
   "display_name": "Python 3",
   "language": "python",
   "name": "python3"
  },
  "language_info": {
   "codemirror_mode": {
    "name": "ipython",
    "version": 3
   },
   "file_extension": ".py",
   "mimetype": "text/x-python",
   "name": "python",
   "nbconvert_exporter": "python",
   "pygments_lexer": "ipython3",
   "version": "3.7.1"
  }
 },
 "nbformat": 4,
 "nbformat_minor": 2
}
