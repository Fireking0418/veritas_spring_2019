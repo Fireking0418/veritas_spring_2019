{
 "cells": [
  {
   "cell_type": "code",
   "execution_count": null,
   "metadata": {},
   "outputs": [],
   "source": [
    "Assume you have a list of numbers 12, 10, 32, 3, 66, 17, 42, 99, 20\n",
    "\n",
    "Write a loop that prints each of the numbers on a new line.\n",
    "Write a loop that prints each number and its square on a new line.\n",
    "\n",
    "for x in [12, 10, 3, 32, 66, 17, 42, 99, 20]:\n",
    "        print(x)\n",
    "\n",
    "for x in [12,10,32,3,66,17,42,99,20]:\n",
    "    print(x*x)\n",
    "    \n",
    "import turtle\n",
    "\n",
    "wn = turtle.Screen()\n",
    "\n",
    "#a=int(input(\"What is the number of sides?\"))\n",
    "b=int(input(\"What is the length of the side?\"))\n",
    "#c=input(\"What is the color?\")\n",
    "#b=input(\"What color do you want to fill the polygon with?\")\n",
    "alex= turtle.Turtle()\n",
    "\n",
    "for i in [0, 1, 2, 3]:   # repeat four times\n",
    "    alex.forward(b)\n",
    "    alex.left(90)"
   ]
  }
 ],
 "metadata": {
  "kernelspec": {
   "display_name": "Python 3",
   "language": "python",
   "name": "python3"
  },
  "language_info": {
   "codemirror_mode": {
    "name": "ipython",
    "version": 3
   },
   "file_extension": ".py",
   "mimetype": "text/x-python",
   "name": "python",
   "nbconvert_exporter": "python",
   "pygments_lexer": "ipython3",
   "version": "3.7.1"
  }
 },
 "nbformat": 4,
 "nbformat_minor": 2
}
